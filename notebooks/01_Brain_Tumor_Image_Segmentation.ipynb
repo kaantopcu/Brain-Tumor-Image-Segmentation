{
  "nbformat": 4,
  "nbformat_minor": 0,
  "metadata": {
    "colab": {
      "provenance": [],
      "gpuType": "T4"
    },
    "kernelspec": {
      "name": "python3",
      "display_name": "Python 3"
    },
    "language_info": {
      "name": "python"
    },
    "accelerator": "GPU"
  },
  "cells": [
    {
      "cell_type": "markdown",
      "source": [
        "# Packages"
      ],
      "metadata": {
        "id": "7VRX5_TiBqVN"
      }
    },
    {
      "cell_type": "code",
      "source": [
        "!pip install itk"
      ],
      "metadata": {
        "colab": {
          "base_uri": "https://localhost:8080/"
        },
        "id": "IIsbWYoArBY_",
        "outputId": "f8aec261-261c-4dcb-e8a9-15d9b84301a5"
      },
      "execution_count": null,
      "outputs": [
        {
          "output_type": "stream",
          "name": "stdout",
          "text": [
            "Collecting itk\n",
            "  Downloading itk-5.3.0-cp310-cp310-manylinux_2_28_x86_64.whl (8.3 kB)\n",
            "Collecting itk-core==5.3.0 (from itk)\n",
            "  Downloading itk_core-5.3.0-cp310-cp310-manylinux_2_28_x86_64.whl (81.2 MB)\n",
            "\u001b[2K     \u001b[90m━━━━━━━━━━━━━━━━━━━━━━━━━━━━━━━━━━━━━━━━\u001b[0m \u001b[32m81.2/81.2 MB\u001b[0m \u001b[31m7.9 MB/s\u001b[0m eta \u001b[36m0:00:00\u001b[0m\n",
            "\u001b[?25hCollecting itk-numerics==5.3.0 (from itk)\n",
            "  Downloading itk_numerics-5.3.0-cp310-cp310-manylinux_2_28_x86_64.whl (58.8 MB)\n",
            "\u001b[2K     \u001b[90m━━━━━━━━━━━━━━━━━━━━━━━━━━━━━━━━━━━━━━━━\u001b[0m \u001b[32m58.8/58.8 MB\u001b[0m \u001b[31m11.3 MB/s\u001b[0m eta \u001b[36m0:00:00\u001b[0m\n",
            "\u001b[?25hCollecting itk-io==5.3.0 (from itk)\n",
            "  Downloading itk_io-5.3.0-cp310-cp310-manylinux_2_28_x86_64.whl (25.6 MB)\n",
            "\u001b[2K     \u001b[90m━━━━━━━━━━━━━━━━━━━━━━━━━━━━━━━━━━━━━━━━\u001b[0m \u001b[32m25.6/25.6 MB\u001b[0m \u001b[31m17.9 MB/s\u001b[0m eta \u001b[36m0:00:00\u001b[0m\n",
            "\u001b[?25hCollecting itk-filtering==5.3.0 (from itk)\n",
            "  Downloading itk_filtering-5.3.0-cp310-cp310-manylinux_2_28_x86_64.whl (73.5 MB)\n",
            "\u001b[2K     \u001b[90m━━━━━━━━━━━━━━━━━━━━━━━━━━━━━━━━━━━━━━━━\u001b[0m \u001b[32m73.5/73.5 MB\u001b[0m \u001b[31m3.9 MB/s\u001b[0m eta \u001b[36m0:00:00\u001b[0m\n",
            "\u001b[?25hCollecting itk-registration==5.3.0 (from itk)\n",
            "  Downloading itk_registration-5.3.0-cp310-cp310-manylinux_2_28_x86_64.whl (26.6 MB)\n",
            "\u001b[2K     \u001b[90m━━━━━━━━━━━━━━━━━━━━━━━━━━━━━━━━━━━━━━━━\u001b[0m \u001b[32m26.6/26.6 MB\u001b[0m \u001b[31m6.5 MB/s\u001b[0m eta \u001b[36m0:00:00\u001b[0m\n",
            "\u001b[?25hCollecting itk-segmentation==5.3.0 (from itk)\n",
            "  Downloading itk_segmentation-5.3.0-cp310-cp310-manylinux_2_28_x86_64.whl (16.5 MB)\n",
            "\u001b[2K     \u001b[90m━━━━━━━━━━━━━━━━━━━━━━━━━━━━━━━━━━━━━━━━\u001b[0m \u001b[32m16.5/16.5 MB\u001b[0m \u001b[31m7.7 MB/s\u001b[0m eta \u001b[36m0:00:00\u001b[0m\n",
            "\u001b[?25hRequirement already satisfied: numpy in /usr/local/lib/python3.10/dist-packages (from itk) (1.25.2)\n",
            "Installing collected packages: itk-core, itk-numerics, itk-io, itk-filtering, itk-segmentation, itk-registration, itk\n",
            "Successfully installed itk-5.3.0 itk-core-5.3.0 itk-filtering-5.3.0 itk-io-5.3.0 itk-numerics-5.3.0 itk-registration-5.3.0 itk-segmentation-5.3.0\n"
          ]
        }
      ]
    },
    {
      "cell_type": "code",
      "source": [
        "!pip install itkwidgets"
      ],
      "metadata": {
        "colab": {
          "base_uri": "https://localhost:8080/"
        },
        "id": "-QmFArWDBcnc",
        "outputId": "2a5c2f09-7924-4629-9c42-55e9e563e2cc"
      },
      "execution_count": null,
      "outputs": [
        {
          "output_type": "stream",
          "name": "stdout",
          "text": [
            "Collecting itkwidgets\n",
            "  Downloading itkwidgets-0.32.6-py2.py3-none-any.whl (3.4 MB)\n",
            "\u001b[2K     \u001b[90m━━━━━━━━━━━━━━━━━━━━━━━━━━━━━━━━━━━━━━━━\u001b[0m \u001b[32m3.4/3.4 MB\u001b[0m \u001b[31m8.8 MB/s\u001b[0m eta \u001b[36m0:00:00\u001b[0m\n",
            "\u001b[?25hRequirement already satisfied: colorcet in /usr/local/lib/python3.10/dist-packages (from itkwidgets) (3.1.0)\n",
            "Requirement already satisfied: itk-core>=5.3.0 in /usr/local/lib/python3.10/dist-packages (from itkwidgets) (5.3.0)\n",
            "Requirement already satisfied: itk-filtering>=5.3.0 in /usr/local/lib/python3.10/dist-packages (from itkwidgets) (5.3.0)\n",
            "Requirement already satisfied: itk-numerics>=5.3.0 in /usr/local/lib/python3.10/dist-packages (from itkwidgets) (5.3.0)\n",
            "Collecting itk-meshtopolydata>=0.10 (from itkwidgets)\n",
            "  Downloading itk_meshtopolydata-0.10.0-cp310-cp310-manylinux_2_28_x86_64.whl (1.0 MB)\n",
            "\u001b[2K     \u001b[90m━━━━━━━━━━━━━━━━━━━━━━━━━━━━━━━━━━━━━━━━\u001b[0m \u001b[32m1.0/1.0 MB\u001b[0m \u001b[31m10.4 MB/s\u001b[0m eta \u001b[36m0:00:00\u001b[0m\n",
            "\u001b[?25hCollecting ipydatawidgets<4.3.3,>=4.0.1 (from itkwidgets)\n",
            "  Downloading ipydatawidgets-4.3.2-py2.py3-none-any.whl (271 kB)\n",
            "\u001b[2K     \u001b[90m━━━━━━━━━━━━━━━━━━━━━━━━━━━━━━━━━━━━━━━━\u001b[0m \u001b[32m271.6/271.6 kB\u001b[0m \u001b[31m12.9 MB/s\u001b[0m eta \u001b[36m0:00:00\u001b[0m\n",
            "\u001b[?25hRequirement already satisfied: ipywidgets>=7.5.1 in /usr/local/lib/python3.10/dist-packages (from itkwidgets) (7.7.1)\n",
            "Collecting ipympl>=0.4.1 (from itkwidgets)\n",
            "  Downloading ipympl-0.9.4-py3-none-any.whl (516 kB)\n",
            "\u001b[2K     \u001b[90m━━━━━━━━━━━━━━━━━━━━━━━━━━━━━━━━━━━━━━━━\u001b[0m \u001b[32m516.3/516.3 kB\u001b[0m \u001b[31m9.9 MB/s\u001b[0m eta \u001b[36m0:00:00\u001b[0m\n",
            "\u001b[?25hRequirement already satisfied: matplotlib in /usr/local/lib/python3.10/dist-packages (from itkwidgets) (3.7.1)\n",
            "Requirement already satisfied: numpy in /usr/local/lib/python3.10/dist-packages (from itkwidgets) (1.25.2)\n",
            "Requirement already satisfied: six in /usr/local/lib/python3.10/dist-packages (from itkwidgets) (1.16.0)\n",
            "Collecting zstandard (from itkwidgets)\n",
            "  Downloading zstandard-0.22.0-cp310-cp310-manylinux_2_17_x86_64.manylinux2014_x86_64.whl (5.4 MB)\n",
            "\u001b[2K     \u001b[90m━━━━━━━━━━━━━━━━━━━━━━━━━━━━━━━━━━━━━━━━\u001b[0m \u001b[32m5.4/5.4 MB\u001b[0m \u001b[31m7.2 MB/s\u001b[0m eta \u001b[36m0:00:00\u001b[0m\n",
            "\u001b[?25hCollecting traitlets<5.7.0 (from itkwidgets)\n",
            "  Downloading traitlets-5.6.0-py3-none-any.whl (107 kB)\n",
            "\u001b[2K     \u001b[90m━━━━━━━━━━━━━━━━━━━━━━━━━━━━━━━━━━━━━━━━\u001b[0m \u001b[32m107.5/107.5 kB\u001b[0m \u001b[31m2.3 MB/s\u001b[0m eta \u001b[36m0:00:00\u001b[0m\n",
            "\u001b[?25hCollecting notebook<6.5.0 (from itkwidgets)\n",
            "  Downloading notebook-6.4.13-py3-none-any.whl (9.9 MB)\n",
            "\u001b[2K     \u001b[90m━━━━━━━━━━━━━━━━━━━━━━━━━━━━━━━━━━━━━━━━\u001b[0m \u001b[32m9.9/9.9 MB\u001b[0m \u001b[31m1.5 MB/s\u001b[0m eta \u001b[36m0:00:00\u001b[0m\n",
            "\u001b[?25hRequirement already satisfied: traittypes>=0.2.0 in /usr/local/lib/python3.10/dist-packages (from ipydatawidgets<4.3.3,>=4.0.1->itkwidgets) (0.2.1)\n",
            "Requirement already satisfied: ipython-genutils in /usr/local/lib/python3.10/dist-packages (from ipympl>=0.4.1->itkwidgets) (0.2.0)\n",
            "Requirement already satisfied: ipython<9 in /usr/local/lib/python3.10/dist-packages (from ipympl>=0.4.1->itkwidgets) (7.34.0)\n",
            "Requirement already satisfied: pillow in /usr/local/lib/python3.10/dist-packages (from ipympl>=0.4.1->itkwidgets) (9.4.0)\n",
            "Requirement already satisfied: ipykernel>=4.5.1 in /usr/local/lib/python3.10/dist-packages (from ipywidgets>=7.5.1->itkwidgets) (5.5.6)\n",
            "Requirement already satisfied: widgetsnbextension~=3.6.0 in /usr/local/lib/python3.10/dist-packages (from ipywidgets>=7.5.1->itkwidgets) (3.6.6)\n",
            "Requirement already satisfied: jupyterlab-widgets>=1.0.0 in /usr/local/lib/python3.10/dist-packages (from ipywidgets>=7.5.1->itkwidgets) (3.0.10)\n",
            "Requirement already satisfied: contourpy>=1.0.1 in /usr/local/lib/python3.10/dist-packages (from matplotlib->itkwidgets) (1.2.1)\n",
            "Requirement already satisfied: cycler>=0.10 in /usr/local/lib/python3.10/dist-packages (from matplotlib->itkwidgets) (0.12.1)\n",
            "Requirement already satisfied: fonttools>=4.22.0 in /usr/local/lib/python3.10/dist-packages (from matplotlib->itkwidgets) (4.51.0)\n",
            "Requirement already satisfied: kiwisolver>=1.0.1 in /usr/local/lib/python3.10/dist-packages (from matplotlib->itkwidgets) (1.4.5)\n",
            "Requirement already satisfied: packaging>=20.0 in /usr/local/lib/python3.10/dist-packages (from matplotlib->itkwidgets) (24.0)\n",
            "Requirement already satisfied: pyparsing>=2.3.1 in /usr/local/lib/python3.10/dist-packages (from matplotlib->itkwidgets) (3.1.2)\n",
            "Requirement already satisfied: python-dateutil>=2.7 in /usr/local/lib/python3.10/dist-packages (from matplotlib->itkwidgets) (2.8.2)\n",
            "Requirement already satisfied: jinja2 in /usr/local/lib/python3.10/dist-packages (from notebook<6.5.0->itkwidgets) (3.1.3)\n",
            "Requirement already satisfied: tornado>=6.1 in /usr/local/lib/python3.10/dist-packages (from notebook<6.5.0->itkwidgets) (6.3.3)\n",
            "Requirement already satisfied: pyzmq>=17 in /usr/local/lib/python3.10/dist-packages (from notebook<6.5.0->itkwidgets) (23.2.1)\n",
            "Requirement already satisfied: argon2-cffi in /usr/local/lib/python3.10/dist-packages (from notebook<6.5.0->itkwidgets) (23.1.0)\n",
            "Requirement already satisfied: jupyter-core>=4.6.1 in /usr/local/lib/python3.10/dist-packages (from notebook<6.5.0->itkwidgets) (5.7.2)\n",
            "Requirement already satisfied: jupyter-client>=5.3.4 in /usr/local/lib/python3.10/dist-packages (from notebook<6.5.0->itkwidgets) (6.1.12)\n",
            "Requirement already satisfied: nbformat in /usr/local/lib/python3.10/dist-packages (from notebook<6.5.0->itkwidgets) (5.10.4)\n",
            "Requirement already satisfied: nbconvert>=5 in /usr/local/lib/python3.10/dist-packages (from notebook<6.5.0->itkwidgets) (6.5.4)\n",
            "Requirement already satisfied: nest-asyncio>=1.5 in /usr/local/lib/python3.10/dist-packages (from notebook<6.5.0->itkwidgets) (1.6.0)\n",
            "Requirement already satisfied: Send2Trash>=1.8.0 in /usr/local/lib/python3.10/dist-packages (from notebook<6.5.0->itkwidgets) (1.8.3)\n",
            "Requirement already satisfied: terminado>=0.8.3 in /usr/local/lib/python3.10/dist-packages (from notebook<6.5.0->itkwidgets) (0.18.1)\n",
            "Requirement already satisfied: prometheus-client in /usr/local/lib/python3.10/dist-packages (from notebook<6.5.0->itkwidgets) (0.20.0)\n",
            "Requirement already satisfied: setuptools>=18.5 in /usr/local/lib/python3.10/dist-packages (from ipython<9->ipympl>=0.4.1->itkwidgets) (67.7.2)\n",
            "Collecting jedi>=0.16 (from ipython<9->ipympl>=0.4.1->itkwidgets)\n",
            "  Downloading jedi-0.19.1-py2.py3-none-any.whl (1.6 MB)\n",
            "\u001b[2K     \u001b[90m━━━━━━━━━━━━━━━━━━━━━━━━━━━━━━━━━━━━━━━━\u001b[0m \u001b[32m1.6/1.6 MB\u001b[0m \u001b[31m1.4 MB/s\u001b[0m eta \u001b[36m0:00:00\u001b[0m\n",
            "\u001b[?25hRequirement already satisfied: decorator in /usr/local/lib/python3.10/dist-packages (from ipython<9->ipympl>=0.4.1->itkwidgets) (4.4.2)\n",
            "Requirement already satisfied: pickleshare in /usr/local/lib/python3.10/dist-packages (from ipython<9->ipympl>=0.4.1->itkwidgets) (0.7.5)\n",
            "Requirement already satisfied: prompt-toolkit!=3.0.0,!=3.0.1,<3.1.0,>=2.0.0 in /usr/local/lib/python3.10/dist-packages (from ipython<9->ipympl>=0.4.1->itkwidgets) (3.0.43)\n",
            "Requirement already satisfied: pygments in /usr/local/lib/python3.10/dist-packages (from ipython<9->ipympl>=0.4.1->itkwidgets) (2.16.1)\n",
            "Requirement already satisfied: backcall in /usr/local/lib/python3.10/dist-packages (from ipython<9->ipympl>=0.4.1->itkwidgets) (0.2.0)\n",
            "Requirement already satisfied: matplotlib-inline in /usr/local/lib/python3.10/dist-packages (from ipython<9->ipympl>=0.4.1->itkwidgets) (0.1.6)\n",
            "Requirement already satisfied: pexpect>4.3 in /usr/local/lib/python3.10/dist-packages (from ipython<9->ipympl>=0.4.1->itkwidgets) (4.9.0)\n",
            "Requirement already satisfied: platformdirs>=2.5 in /usr/local/lib/python3.10/dist-packages (from jupyter-core>=4.6.1->notebook<6.5.0->itkwidgets) (4.2.0)\n",
            "Requirement already satisfied: lxml in /usr/local/lib/python3.10/dist-packages (from nbconvert>=5->notebook<6.5.0->itkwidgets) (4.9.4)\n",
            "Requirement already satisfied: beautifulsoup4 in /usr/local/lib/python3.10/dist-packages (from nbconvert>=5->notebook<6.5.0->itkwidgets) (4.12.3)\n",
            "Requirement already satisfied: bleach in /usr/local/lib/python3.10/dist-packages (from nbconvert>=5->notebook<6.5.0->itkwidgets) (6.1.0)\n",
            "Requirement already satisfied: defusedxml in /usr/local/lib/python3.10/dist-packages (from nbconvert>=5->notebook<6.5.0->itkwidgets) (0.7.1)\n",
            "Requirement already satisfied: entrypoints>=0.2.2 in /usr/local/lib/python3.10/dist-packages (from nbconvert>=5->notebook<6.5.0->itkwidgets) (0.4)\n",
            "Requirement already satisfied: jupyterlab-pygments in /usr/local/lib/python3.10/dist-packages (from nbconvert>=5->notebook<6.5.0->itkwidgets) (0.3.0)\n",
            "Requirement already satisfied: MarkupSafe>=2.0 in /usr/local/lib/python3.10/dist-packages (from nbconvert>=5->notebook<6.5.0->itkwidgets) (2.1.5)\n",
            "Requirement already satisfied: mistune<2,>=0.8.1 in /usr/local/lib/python3.10/dist-packages (from nbconvert>=5->notebook<6.5.0->itkwidgets) (0.8.4)\n",
            "Requirement already satisfied: nbclient>=0.5.0 in /usr/local/lib/python3.10/dist-packages (from nbconvert>=5->notebook<6.5.0->itkwidgets) (0.10.0)\n",
            "Requirement already satisfied: pandocfilters>=1.4.1 in /usr/local/lib/python3.10/dist-packages (from nbconvert>=5->notebook<6.5.0->itkwidgets) (1.5.1)\n",
            "Requirement already satisfied: tinycss2 in /usr/local/lib/python3.10/dist-packages (from nbconvert>=5->notebook<6.5.0->itkwidgets) (1.2.1)\n",
            "Requirement already satisfied: fastjsonschema>=2.15 in /usr/local/lib/python3.10/dist-packages (from nbformat->notebook<6.5.0->itkwidgets) (2.19.1)\n",
            "Requirement already satisfied: jsonschema>=2.6 in /usr/local/lib/python3.10/dist-packages (from nbformat->notebook<6.5.0->itkwidgets) (4.19.2)\n",
            "Requirement already satisfied: ptyprocess in /usr/local/lib/python3.10/dist-packages (from terminado>=0.8.3->notebook<6.5.0->itkwidgets) (0.7.0)\n",
            "Requirement already satisfied: argon2-cffi-bindings in /usr/local/lib/python3.10/dist-packages (from argon2-cffi->notebook<6.5.0->itkwidgets) (21.2.0)\n",
            "Requirement already satisfied: parso<0.9.0,>=0.8.3 in /usr/local/lib/python3.10/dist-packages (from jedi>=0.16->ipython<9->ipympl>=0.4.1->itkwidgets) (0.8.4)\n",
            "Requirement already satisfied: attrs>=22.2.0 in /usr/local/lib/python3.10/dist-packages (from jsonschema>=2.6->nbformat->notebook<6.5.0->itkwidgets) (23.2.0)\n",
            "Requirement already satisfied: jsonschema-specifications>=2023.03.6 in /usr/local/lib/python3.10/dist-packages (from jsonschema>=2.6->nbformat->notebook<6.5.0->itkwidgets) (2023.12.1)\n",
            "Requirement already satisfied: referencing>=0.28.4 in /usr/local/lib/python3.10/dist-packages (from jsonschema>=2.6->nbformat->notebook<6.5.0->itkwidgets) (0.34.0)\n",
            "Requirement already satisfied: rpds-py>=0.7.1 in /usr/local/lib/python3.10/dist-packages (from jsonschema>=2.6->nbformat->notebook<6.5.0->itkwidgets) (0.18.0)\n",
            "Requirement already satisfied: wcwidth in /usr/local/lib/python3.10/dist-packages (from prompt-toolkit!=3.0.0,!=3.0.1,<3.1.0,>=2.0.0->ipython<9->ipympl>=0.4.1->itkwidgets) (0.2.13)\n",
            "Requirement already satisfied: cffi>=1.0.1 in /usr/local/lib/python3.10/dist-packages (from argon2-cffi-bindings->argon2-cffi->notebook<6.5.0->itkwidgets) (1.16.0)\n",
            "Requirement already satisfied: soupsieve>1.2 in /usr/local/lib/python3.10/dist-packages (from beautifulsoup4->nbconvert>=5->notebook<6.5.0->itkwidgets) (2.5)\n",
            "Requirement already satisfied: webencodings in /usr/local/lib/python3.10/dist-packages (from bleach->nbconvert>=5->notebook<6.5.0->itkwidgets) (0.5.1)\n",
            "Requirement already satisfied: pycparser in /usr/local/lib/python3.10/dist-packages (from cffi>=1.0.1->argon2-cffi-bindings->argon2-cffi->notebook<6.5.0->itkwidgets) (2.22)\n",
            "Installing collected packages: zstandard, traitlets, jedi, itk-meshtopolydata, notebook, ipympl, ipydatawidgets, itkwidgets\n",
            "  Attempting uninstall: traitlets\n",
            "    Found existing installation: traitlets 5.7.1\n",
            "    Uninstalling traitlets-5.7.1:\n",
            "      Successfully uninstalled traitlets-5.7.1\n",
            "  Attempting uninstall: notebook\n",
            "    Found existing installation: notebook 6.5.5\n",
            "    Uninstalling notebook-6.5.5:\n",
            "      Successfully uninstalled notebook-6.5.5\n",
            "\u001b[31mERROR: pip's dependency resolver does not currently take into account all the packages that are installed. This behaviour is the source of the following dependency conflicts.\n",
            "google-colab 1.0.0 requires notebook==6.5.5, but you have notebook 6.4.13 which is incompatible.\u001b[0m\u001b[31m\n",
            "\u001b[0mSuccessfully installed ipydatawidgets-4.3.2 ipympl-0.9.4 itk-meshtopolydata-0.10.0 itkwidgets-0.32.6 jedi-0.19.1 notebook-6.4.13 traitlets-5.6.0 zstandard-0.22.0\n"
          ]
        }
      ]
    },
    {
      "cell_type": "code",
      "source": [
        "import numpy as np\n",
        "import matplotlib.pyplot as plt\n",
        "import seaborn as sns\n",
        "from google.colab import drive\n",
        "import nibabel as nib\n",
        "import itk\n",
        "import itkwidgets\n",
        "import cv2\n",
        "import keras\n",
        "import keras\n",
        "from keras.utils import to_categorical\n",
        "from ipywidgets import interact, interactive, IntSlider, ToggleButtons\n",
        "%matplotlib inline\n",
        "\n",
        "sns.set_style('darkgrid')"
      ],
      "metadata": {
        "id": "Kb-GIufVBojN"
      },
      "execution_count": null,
      "outputs": []
    },
    {
      "cell_type": "markdown",
      "source": [
        "# Explore Data"
      ],
      "metadata": {
        "id": "nlrC9Ok0B0a4"
      }
    },
    {
      "cell_type": "markdown",
      "source": [
        "## Load Images"
      ],
      "metadata": {
        "id": "G7Wpd9U1B28k"
      }
    },
    {
      "cell_type": "code",
      "source": [
        "# Mounting Google Drive\n",
        "drive.mount(\"/content/gdrive\")"
      ],
      "metadata": {
        "id": "iMo8YhktCdDt"
      },
      "execution_count": null,
      "outputs": []
    },
    {
      "cell_type": "code",
      "source": [
        "# The path to Covid dataset directory\n",
        "dataset_path = '/content/gdrive/MyDrive/GesundAI/BraTS'"
      ],
      "metadata": {
        "id": "Yle_4CMKCiRM"
      },
      "execution_count": null,
      "outputs": []
    },
    {
      "cell_type": "code",
      "source": [
        "image_path = '/content/gdrive/MyDrive/GesundAI/BraTS/imagesTr/BRATS_001.nii.gz'\n",
        "image_obj = nib.load(image_path)\n",
        "print(f'Type of the image {type(image_obj)}')"
      ],
      "metadata": {
        "id": "AgX-Og_OClZV"
      },
      "execution_count": null,
      "outputs": []
    },
    {
      "cell_type": "markdown",
      "source": [
        "## Extract the Data as Numpy Array"
      ],
      "metadata": {
        "id": "5hwn0JYZB5se"
      }
    },
    {
      "cell_type": "code",
      "source": [
        "# Extract data as numpy ndarray\n",
        "image_data = image_obj.get_fdata()\n",
        "type(image_data)"
      ],
      "metadata": {
        "id": "xxyytvXNCq30"
      },
      "execution_count": null,
      "outputs": []
    },
    {
      "cell_type": "code",
      "source": [
        "# Get the image shape and print it out\n",
        "height, width, depth, channels = image_data.shape\n",
        "print(f\"The image object has the following dimensions: height: {height}, width:{width}, depth:{depth}, channels:{channels}\")"
      ],
      "metadata": {
        "id": "-_iNucF2CrcH"
      },
      "execution_count": null,
      "outputs": []
    },
    {
      "cell_type": "markdown",
      "source": [
        "## Data Visualization"
      ],
      "metadata": {
        "id": "hPsdo96j65nL"
      }
    },
    {
      "cell_type": "code",
      "source": [
        "# Select random layer number\n",
        "maxval = 154\n",
        "i = np.random.randint(0, maxval)\n",
        "# Define a channel to look at\n",
        "channel = 0\n",
        "print(f\"Plotting Layer {i} Channel {channel} of Image\")\n",
        "plt.imshow(image_data[:, :, i, channel], cmap='gray')\n",
        "plt.axis('off');"
      ],
      "metadata": {
        "id": "ug7KKa4YqhBn"
      },
      "execution_count": null,
      "outputs": []
    },
    {
      "cell_type": "code",
      "source": [
        "# Define a function to visualize the data\n",
        "def explore_3dimage(layer):\n",
        "    plt.figure(figsize=(10, 5))\n",
        "    channel = 3\n",
        "    plt.imshow(image_data[:, :, layer, channel], cmap='gray');\n",
        "    plt.title('Explore Layers of Brain MRI', fontsize=20)\n",
        "    plt.axis('off')\n",
        "    return layer\n",
        "\n",
        "# Run the ipywidgets interact() function to explore the data\n",
        "interact(explore_3dimage, layer=(0, image_data.shape[2] - 1));"
      ],
      "metadata": {
        "id": "tBZ1-D3sq5Cf"
      },
      "execution_count": null,
      "outputs": []
    },
    {
      "cell_type": "markdown",
      "source": [
        "# Data Labels"
      ],
      "metadata": {
        "id": "UPqButvkCF3E"
      }
    },
    {
      "cell_type": "code",
      "source": [
        "# Define the data path and load the data\n",
        "label_path = '/content/gdrive/MyDrive/GesundAI/BraTS/labelsTr/BRATS_001.nii.gz'\n",
        "label_obj = nib.load(label_path)\n",
        "type(label_obj)"
      ],
      "metadata": {
        "id": "p2YFAQQUsDNW"
      },
      "execution_count": null,
      "outputs": []
    },
    {
      "cell_type": "markdown",
      "source": [
        "### Extract Data Labels as Numpy Array"
      ],
      "metadata": {
        "id": "RxFb2YKw7i-o"
      }
    },
    {
      "cell_type": "code",
      "source": [
        "# Extract data labels\n",
        "label_array = label_obj.get_fdata()\n",
        "type(label_array)"
      ],
      "metadata": {
        "id": "jPz1YBxotJPs"
      },
      "execution_count": null,
      "outputs": []
    },
    {
      "cell_type": "code",
      "source": [
        "# Extract and print out the shape of the labels data\n",
        "height, width, depth = label_array.shape\n",
        "print(f\"Dimensions of labels data array height: {height}, width: {width}, depth: {depth}\")\n",
        "print(f'With the unique values: {np.unique(label_array)}')\n",
        "print(\"\"\"Corresponding to the following label categories:\n",
        "0: for normal\n",
        "1: for edema\n",
        "2: for non-enhancing tumor\n",
        "3: for enhancing tumor\"\"\")"
      ],
      "metadata": {
        "id": "mAMKcTGJtW19"
      },
      "execution_count": null,
      "outputs": []
    },
    {
      "cell_type": "markdown",
      "source": [
        "### Visualize Specific Layer"
      ],
      "metadata": {
        "id": "ZIP5F77i7eU8"
      }
    },
    {
      "cell_type": "code",
      "source": [
        "# Define a single layer for plotting\n",
        "layer = 50\n",
        "# Define a dictionary of class labels\n",
        "classes_dict = {\n",
        "    'Normal': 0.,\n",
        "    'Edema': 1.,\n",
        "    'Non-enhancing tumor': 2.,\n",
        "    'Enhancing tumor': 3.\n",
        "}\n",
        "# Set up for plotting\n",
        "fig, ax = plt.subplots(nrows=1, ncols=4, figsize=(50, 30))\n",
        "for i in range(4):\n",
        "    img_label_str = list(classes_dict.keys())[i]\n",
        "    img = label_array[:,:,layer]\n",
        "    mask = np.where(img == classes_dict[img_label_str], 255, 0)\n",
        "    ax[i].imshow(mask)\n",
        "    ax[i].set_title(f\"Layer {layer} for {img_label_str}\", fontsize=45)\n",
        "    ax[i].axis('off')\n",
        "plt.tight_layout()"
      ],
      "metadata": {
        "id": "plj2g1V8tnON"
      },
      "execution_count": null,
      "outputs": []
    },
    {
      "cell_type": "code",
      "source": [
        "# Create button values\n",
        "select_class = ToggleButtons(\n",
        "    options=['Normal','Edema', 'Non-enhancing tumor', 'Enhancing tumor'],\n",
        "    description='Select Class:',\n",
        "    disabled=False,\n",
        "    button_style='info',\n",
        "\n",
        ")\n",
        "# Create layer slider\n",
        "select_layer = IntSlider(min=0, max=154, description='Select Layer', continuous_update=False)\n",
        "\n",
        "\n",
        "# Define a function for plotting images\n",
        "def plot_image(seg_class, layer):\n",
        "    print(f\"Plotting {layer} Layer Label: {seg_class}\")\n",
        "    img_label = classes_dict[seg_class]\n",
        "    mask = np.where(label_array[:,:,layer] == img_label, 255, 0)\n",
        "    plt.figure(figsize=(10,5))\n",
        "    plt.imshow(mask, cmap='gray')\n",
        "    plt.axis('off');\n",
        "\n",
        "# Use the interactive() tool to create the visualization\n",
        "interactive(plot_image, seg_class=select_class, layer=select_layer)"
      ],
      "metadata": {
        "id": "Xpk75Rp9wLn0"
      },
      "execution_count": null,
      "outputs": []
    },
    {
      "cell_type": "markdown",
      "source": [
        "# No-name"
      ],
      "metadata": {
        "id": "-F1wtuQpAm5e"
      }
    },
    {
      "cell_type": "markdown",
      "source": [
        "\n",
        "    The first 3 dimensions are the X, Y, and Z values for each point in the 3D volume, which is commonly called a voxel.\n",
        "    The 4th dimension is the values for 4 different sequences\n",
        "        0: FLAIR: \"Fluid Attenuated Inversion Recovery\" (FLAIR)\n",
        "        1: T1w: \"T1-weighted\"\n",
        "        2: t1gd: \"T1-weighted with gadolinium contrast enhancement\" (T1-Gd)\n",
        "        3: T2w: \"T2-weighted\"\n"
      ],
      "metadata": {
        "id": "18bsGguXAAtr"
      }
    },
    {
      "cell_type": "markdown",
      "source": [
        "The colors correspond to each class:\n",
        "\n",
        "    Red is edema\n",
        "    Green is a non-enhancing tumor\n",
        "    Blue is an enhancing tumor.\n"
      ],
      "metadata": {
        "id": "UNEIvfsqARLw"
      }
    },
    {
      "cell_type": "code",
      "source": [
        "image, label = load_case(dataset_path + \"/imagesTr/BRATS_003.nii.gz\", dataset_path + \"/labelsTr/BRATS_003.nii.gz\")\n",
        "image = get_labeled_image(image, label)\n",
        "\n",
        "plot_image_grid(image)"
      ],
      "metadata": {
        "id": "480THDkJ47MJ"
      },
      "execution_count": null,
      "outputs": []
    },
    {
      "cell_type": "code",
      "source": [],
      "metadata": {
        "id": "qH3PLZ0bQOGi"
      },
      "execution_count": null,
      "outputs": []
    }
  ]
}